{
 "cells": [
  {
   "cell_type": "code",
   "execution_count": 13,
   "metadata": {},
   "outputs": [],
   "source": [
    "from langchain.prompts import PromptTemplate\n",
    "from langchain.chat_models import AzureChatOpenAI\n",
    "from langchain.chains import LLMChain"
   ]
  },
  {
   "cell_type": "code",
   "execution_count": 14,
   "metadata": {},
   "outputs": [
    {
     "data": {
      "text/plain": [
       "True"
      ]
     },
     "execution_count": 14,
     "metadata": {},
     "output_type": "execute_result"
    }
   ],
   "source": [
    "from dotenv import load_dotenv\n",
    "load_dotenv() # if using notebook, make sure to restart the kernel after adding new env variables"
   ]
  },
  {
   "cell_type": "code",
   "execution_count": 15,
   "metadata": {},
   "outputs": [],
   "source": [
    "information = \"\"\" \n",
    "Elon Reeve Musk (Elɒn/ EE-lon; born June 28, 1971) is a businessman and investor. Musk is the founder, chairman, CEO and chief technology officer of SpaceX; angel investor, CEO, product architect and former chairman of Tesla, Inc.; owner, chairman and CTO of X Corp.; founder of the Boring Company and xAI; co-founder of Neuralink and OpenAI; and president of the Musk Foundation. He is the wealthiest person in the world, with an estimated net worth of US$219 billion as of November 2023, according to the Bloomberg Billionaires Index, and $241 billion according to Forbes, primarily from his ownership stakes in Tesla and SpaceX.\n",
    "Musk was born in Pretoria, South Africa, and briefly attended the University of Pretoria before immigrating to Canada at age 18, acquiring citizenship through his Canadian-born mother. Two years later, he matriculated at Queen's University in Kingston, Ontario. Musk later transferred to the University of Pennsylvania, and received bachelor's degrees in economics and physics there. He moved to California in 1995 to attend Stanford University. However, Musk dropped out after two days and, with his brother Kimbal, co-founded online city guide software company Zip2. The startup was acquired by Compaq for $307 million in 1999, and with $12 million of the money he made, that same year Musk co-founded X.com, a direct bank. X.com merged with Confinity in 2000 to form PayPal.\n",
    "In October 2002, eBay acquired PayPal for $1.5 billion, and that same year, with $100 million of the money he made, Musk founded SpaceX, a spaceflight services company. In 2004, he became an early investor in electric vehicle manufacturer Tesla Motors, Inc. (now Tesla, Inc.). He became its chairman and product architect, assuming the position of CEO in 2008. In 2006, Musk helped create SolarCity, a solar-energy company that was acquired by Tesla in 2016 and became Tesla Energy. In 2013, he proposed a hyperloop high-speed vactrain transportation system. In 2015, he co-founded OpenAI, a nonprofit artificial intelligence research company. The following year, Musk co-founded Neuralink—a neurotechnology company developing brain–computer interfaces—and the Boring Company, a tunnel construction company. In 2022, he acquired Twitter for $44 billion. He subsequently merged the company into newly created X Corp. and rebranded the service as X the following year. In March 2023, he founded xAI, an artificial-intelligence company.\n",
    "Musk has expressed views that have made him a polarizing figure.[8][9][10] He has been criticized for making unscientific and misleading statements, including COVID-19 misinformation, transphobia[11][12][13] and antisemitic conspiracy theories.[8][14][15][16] His Twitter ownership has been similarly controversial, including laying off a large number of employees, an increase in hate speech on the website,[17][18] and changes to Twitter Blue verification.[19][20] In 2018, the U.S. Securities and Exchange Commission (SEC) sued him for falsely tweeting that he had secured funding for a private takeover of Tesla. To settle the case, Musk stepped down as the chairman of Tesla and paid a $20 million fine.\"\"\"\n",
    "\n",
    "summaryTemplate = \"\"\"\n",
    "Given the information {info} about a person from I want you to create:\n",
    "1. A short summary about the person\n",
    "2. Interesting facts about the person\n",
    "\"\"\"\n"
   ]
  },
  {
   "cell_type": "code",
   "execution_count": 17,
   "metadata": {},
   "outputs": [
    {
     "name": "stdout",
     "output_type": "stream",
     "text": [
      "1. Elon Musk is a highly successful businessman and investor. He is the founder, chairman, CEO, and chief technology officer of SpaceX, a spaceflight services company. Musk is also known for being the angel investor, CEO, and former chairman of Tesla, Inc., an electric vehicle manufacturer. He has played a key role in the development of various companies, including X Corp., the Boring Company, Neuralink, and OpenAI. Additionally, he is the president of the Musk Foundation and has a significant net worth, making him the wealthiest person in the world.\n",
      "\n",
      "2. Interesting facts about Elon Musk:\n",
      "- Musk was born in Pretoria, South Africa, and later moved to Canada at the age of 18. He acquired Canadian citizenship through his mother.\n",
      "- He attended multiple universities, including the University of Pretoria, Queen's University, the University of Pennsylvania, and briefly Stanford University.\n",
      "- Musk co-founded Zip2, an online city guide software company, which was later acquired by Compaq for $307 million.\n",
      "- In 2002, eBay acquired PayPal, where Musk had a significant role, for $1.5 billion.\n",
      "- Musk's ventures extend beyond space exploration and electric vehicles. He has also ventured into sustainable energy with the creation of SolarCity, which was later acquired by Tesla.\n",
      "- He proposed the concept of the hyperloop, a high-speed transportation system, in 2013.\n",
      "- Musk has been involved in various controversies, including his unscientific statements, spreading misinformation about COVID-19, and making controversial remarks related to transgender individuals and antisemitic conspiracy theories.\n",
      "- He acquired Twitter in 2022 and merged it into X Corp., rebranding the service as X.\n",
      "- Musk has made significant contributions to artificial intelligence research through his involvement in companies like OpenAI and Neuralink.\n",
      "- In 2018, Musk faced legal consequences after falsely tweeting that he had secured funding for a private takeover of Tesla. As a result, he stepped down as chairman and paid a fine to settle the case.\n"
     ]
    }
   ],
   "source": [
    "summary_prompt_template = PromptTemplate(input_variables=['info'], template=summaryTemplate)\n",
    "llm = AzureChatOpenAI(model=\"gpt-35-turbo\")\n",
    "chain = LLMChain(llm=llm, prompt=summary_prompt_template)\n",
    "response = chain.run(info=information)\n",
    "print(response)"
   ]
  }
 ],
 "metadata": {
  "kernelspec": {
   "display_name": "base",
   "language": "python",
   "name": "python3"
  },
  "language_info": {
   "codemirror_mode": {
    "name": "ipython",
    "version": 3
   },
   "file_extension": ".py",
   "mimetype": "text/x-python",
   "name": "python",
   "nbconvert_exporter": "python",
   "pygments_lexer": "ipython3",
   "version": "3.11.6"
  }
 },
 "nbformat": 4,
 "nbformat_minor": 2
}
